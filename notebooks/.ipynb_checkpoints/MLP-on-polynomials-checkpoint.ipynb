{
 "cells": [
  {
   "cell_type": "markdown",
   "metadata": {},
   "source": [
    "# detecting polynomial classes from noisy data\n",
    "\n",
    "The goal of this notebook is to interpret data in an x-y plane as a greyscale image. I want to use compare traditional MLPs with CNNs to classify unseen data and also check what happens if we confront the network with an unseen category of data. We go up to polynomials of degree 5 and randomly dice they coefficients. This can produce data that is pretty diverse.\n",
    "\n",
    "## Training Data\n",
    "\n",
    "The following function uses numpy to generate the data set. We make the output ndarray's shape configurable, but will stick with a 64x64 shaped plane that spans $x=(-32,32]$ or something alike."
   ]
  },
  {
   "cell_type": "code",
   "execution_count": 1,
   "metadata": {},
   "outputs": [],
   "source": [
    "%matplotlib inline\n",
    "import numpy as np\n",
    "import matplotlib.pyplot as plt\n",
    "\n",
    "def syn_image(x, values, yrange = None, shape = (32,32), value_span = (-1,1)):\n",
    "    \n",
    "    if type(yrange) == type(None):\n",
    "        yrange = np.linspace(start=value_span[0], stop=value_span[-1],num=shape[0])\n",
    "        \n",
    "    current = np.zeros(shape)\n",
    "    for ix in range(len(x)):\n",
    "        yval = values[ix]\n",
    "        xval = x[ix]\n",
    "        if yval >= value_span[0] and yval <= value_span[-1]:\n",
    "            yidx = len(x) -1 - np.searchsorted(yrange, yval, side=\"left\")\n",
    "            current[yidx,len(x) -1 - ix] = 1\n",
    "            \n",
    "    return current\n",
    "\n",
    "def polynomials_as_images(size, max_degree, shape = (32,32), value_span = (-1,1), seed = 1, smear_sd = None):\n",
    "    \n",
    "    if seed:\n",
    "        np.random.seed(seed)\n",
    "        \n",
    "    size = int(size)\n",
    "    x = np.linspace(start=value_span[0], stop=value_span[-1],num=shape[-1])\n",
    "    y = np.linspace(start=value_span[0], stop=value_span[-1],num=shape[0])\n",
    "    \n",
    "    data   = np.zeros((size,int(shape[0]),int(shape[1])),\n",
    "                       dtype=np.uint8)\n",
    "    labels = np.random.randint(low=1,high=max_degree+1,size=size)\n",
    "    \n",
    "    for i in range(size):\n",
    "        deg = labels[i]\n",
    "        c   = np.random.random_sample(deg)\n",
    "        #print(c)\n",
    "        #print(x)\n",
    "        values   = np.polynomial.polynomial.polyval(x,c)\n",
    "        if smear_sd:\n",
    "            smear_by = np.random.normal(1.,smear_sd,size=values.size)\n",
    "            values = values*smear_by\n",
    "        current = syn_image(x,values,y,shape,value_span)\n",
    "            \n",
    "        data[i,] = current\n",
    "     \n",
    "    return data, labels"
   ]
  },
  {
   "cell_type": "code",
   "execution_count": 2,
   "metadata": {},
   "outputs": [],
   "source": [
    "train, labs = polynomials_as_images(20000,5,smear_sd=None)\n"
   ]
  },
  {
   "cell_type": "code",
   "execution_count": 3,
   "metadata": {},
   "outputs": [
    {
     "data": {
      "image/png": "[encoded data removed]",
      "text/plain": [
       "<Figure size 720x720 with 25 Axes>"
      ]
     },
     "metadata": {},
     "output_type": "display_data"
    }
   ],
   "source": [
    "#nicer plots with axis labels etc\n",
    "def plot_images(data, labels,  n_images = 25):\n",
    "    xticks = np.linspace(start=1, stop=-1,num=3)\n",
    "    yticks = np.linspace(start=1, stop=-1,num=3)\n",
    "\n",
    "    plt.figure(figsize=(10,10))\n",
    "    for i in range(n_images):\n",
    "        ax = plt.subplot(5,5,i+1)\n",
    "        #plt.xticks([])\n",
    "        #plt.yticks([])\n",
    "        plt.grid(True)\n",
    "        plt.imshow(data[i], cmap=plt.cm.binary)\n",
    "        #ax.xlabel(\"pol({0})\".format(labs[i]),color='white')\n",
    "        ax.set_title(\"pol({0})\".format(labs[i]))\n",
    "        \n",
    "        \n",
    "plot_images(train, labs)"
   ]
  },
  {
   "cell_type": "code",
   "execution_count": 4,
   "metadata": {},
   "outputs": [
    {
     "name": "stderr",
     "output_type": "stream",
     "text": [
      "/Users/aimachine/anaconda3/lib/python3.6/site-packages/h5py/__init__.py:36: FutureWarning: Conversion of the second argument of issubdtype from `float` to `np.floating` is deprecated. In future, it will be treated as `np.float64 == np.dtype(float).type`.\n",
      "  from ._conv import register_converters as _register_converters\n",
      "Using TensorFlow backend.\n"
     ]
    },
    {
     "name": "stdout",
     "output_type": "stream",
     "text": [
      "_________________________________________________________________\n",
      "Layer (type)                 Output Shape              Param #   \n",
      "=================================================================\n",
      "flatten_1 (Flatten)          (None, 1024)              0         \n",
      "_________________________________________________________________\n",
      "dense_1 (Dense)              (None, 64)                65600     \n",
      "_________________________________________________________________\n",
      "dropout_1 (Dropout)          (None, 64)                0         \n",
      "_________________________________________________________________\n",
      "dense_2 (Dense)              (None, 64)                4160      \n",
      "_________________________________________________________________\n",
      "dropout_2 (Dropout)          (None, 64)                0         \n",
      "_________________________________________________________________\n",
      "dense_3 (Dense)              (None, 64)                4160      \n",
      "_________________________________________________________________\n",
      "dropout_3 (Dropout)          (None, 64)                0         \n",
      "_________________________________________________________________\n",
      "dense_4 (Dense)              (None, 6)                 390       \n",
      "=================================================================\n",
      "Total params: 74,310\n",
      "Trainable params: 74,310\n",
      "Non-trainable params: 0\n",
      "_________________________________________________________________\n"
     ]
    }
   ],
   "source": [
    "#MLP comes here with non-linearity\n",
    "from keras.utils import to_categorical\n",
    "labels = to_categorical(labs)\n",
    "\n",
    "from keras import Sequential\n",
    "from keras.layers import Dense, Dropout, Flatten\n",
    "\n",
    "model = Sequential()\n",
    "model.add(Flatten(input_shape=(32,32)))\n",
    "model.add(Dense(64, activation='relu'))#all to all relation ship in first hidden layer\n",
    "model.add(Dropout(0.4))\n",
    "model.add(Dense(64, activation='relu'))\n",
    "model.add(Dropout(0.4))\n",
    "model.add(Dense(64, activation='relu'))\n",
    "model.add(Dropout(0.4))\n",
    "model.add(Dense(6, activation='softmax'))\n",
    "\n",
    "model.summary()\n",
    "\n"
   ]
  },
  {
   "cell_type": "code",
   "execution_count": null,
   "metadata": {},
   "outputs": [
    {
     "name": "stdout",
     "output_type": "stream",
     "text": [
      "Train on 19000 samples, validate on 1000 samples\n",
      "Epoch 1/20\n",
      "19000/19000 [==============================] - 2s 85us/step - loss: 1.2675 - acc: 0.4017 - val_loss: 0.9839 - val_acc: 0.5650\n",
      "Epoch 2/20\n",
      "19000/19000 [==============================] - 1s 59us/step - loss: 0.9819 - acc: 0.5405 - val_loss: 0.8305 - val_acc: 0.6350\n",
      "Epoch 3/20\n",
      "19000/19000 [==============================] - 1s 61us/step - loss: 0.8633 - acc: 0.6046 - val_loss: 0.7609 - val_acc: 0.6560\n",
      "Epoch 4/20\n",
      "19000/19000 [==============================] - 1s 63us/step - loss: 0.8092 - acc: 0.6396 - val_loss: 0.7189 - val_acc: 0.6820\n",
      "Epoch 5/20\n",
      "19000/19000 [==============================] - 1s 65us/step - loss: 0.7633 - acc: 0.6666 - val_loss: 0.7140 - val_acc: 0.6760\n",
      "Epoch 6/20\n",
      "19000/19000 [==============================] - 1s 64us/step - loss: 0.7311 - acc: 0.6845 - val_loss: 0.6909 - val_acc: 0.6990\n",
      "Epoch 7/20\n",
      "19000/19000 [==============================] - 1s 64us/step - loss: 0.7009 - acc: 0.7022 - val_loss: 0.6825 - val_acc: 0.7020\n",
      "Epoch 8/20\n",
      "19000/19000 [==============================] - 1s 63us/step - loss: 0.6832 - acc: 0.7141 - val_loss: 0.6669 - val_acc: 0.7250\n",
      "Epoch 9/20\n",
      "19000/19000 [==============================] - 1s 65us/step - loss: 0.6663 - acc: 0.7159 - val_loss: 0.6701 - val_acc: 0.7050\n",
      "Epoch 10/20\n",
      "19000/19000 [==============================] - 1s 63us/step - loss: 0.6513 - acc: 0.7271 - val_loss: 0.6635 - val_acc: 0.7170\n",
      "Epoch 11/20\n",
      "19000/19000 [==============================] - 1s 62us/step - loss: 0.6353 - acc: 0.7335 - val_loss: 0.6590 - val_acc: 0.7050\n",
      "Epoch 12/20\n",
      "19000/19000 [==============================] - 1s 61us/step - loss: 0.6199 - acc: 0.7370 - val_loss: 0.6592 - val_acc: 0.7170\n",
      "Epoch 13/20\n",
      "19000/19000 [==============================] - 1s 64us/step - loss: 0.6022 - acc: 0.7518 - val_loss: 0.6603 - val_acc: 0.7200\n",
      "Epoch 14/20\n",
      "19000/19000 [==============================] - 1s 62us/step - loss: 0.6007 - acc: 0.7491 - val_loss: 0.6501 - val_acc: 0.7260\n",
      "Epoch 15/20\n",
      " 7040/19000 [==========>...................] - ETA: 0s - loss: 0.5848 - acc: 0.7513"
     ]
    }
   ],
   "source": [
    "model.compile(loss='categorical_crossentropy',\n",
    "              optimizer='Adam',\n",
    "              metrics=['accuracy']\n",
    "             )\n",
    "\n",
    "hist = model.fit(train, labels, epochs=20,validation_split = .05)"
   ]
  },
  {
   "cell_type": "code",
   "execution_count": null,
   "metadata": {},
   "outputs": [],
   "source": [
    "#CNN\n",
    "from keras.layers import Conv2D, MaxPooling2D\n",
    "\n",
    "train_ = train.reshape(train.shape[0],train.shape[1],train.shape[2],1)\n",
    "\n",
    "cnn = Sequential()\n",
    "cnn.add(Conv2D(32, kernel_size=(3,3), activation='relu',input_shape=(32,32,1)))\n",
    "cnn.add(MaxPooling2D(pool_size=(2,2)))\n",
    "cnn.add(Dropout(0.2))\n",
    "cnn.add(Conv2D(32, kernel_size=(3,3), activation='relu'))\n",
    "cnn.add(MaxPooling2D(pool_size=(2,2)))\n",
    "cnn.add(Dropout(0.2))\n",
    "cnn.add(Conv2D(64, kernel_size=(3,3), activation='relu'))\n",
    "cnn.add(MaxPooling2D(pool_size=(2,2)))\n",
    "cnn.add(Dropout(0.2))\n",
    "\n",
    "cnn.add(Flatten())\n",
    "cnn.add(Dense(128, activation='relu'))\n",
    "cnn.add(Dropout(0.2))\n",
    "cnn.add(Dense(6, activation='softmax'))\n",
    "\n",
    "cnn.summary()\n",
    "\n"
   ]
  },
  {
   "cell_type": "code",
   "execution_count": null,
   "metadata": {},
   "outputs": [],
   "source": [
    "cnn.compile(loss='categorical_crossentropy',\n",
    "              optimizer='Adam',\n",
    "              metrics=['accuracy']\n",
    "             )\n",
    "\n",
    "chist = cnn.fit(train_, labels, epochs=20,\n",
    "                  validation_split = .05)"
   ]
  },
  {
   "cell_type": "code",
   "execution_count": null,
   "metadata": {},
   "outputs": [],
   "source": [
    "def plot_loss_acc(hist):\n",
    "    fig = plt.figure(figsize=(15,4));\n",
    "  \n",
    "    ax = fig.add_subplot(121)\n",
    "    ax.semilogy(hist.epoch,hist.history['loss'],hist.history['val_loss'])\n",
    "    ax.set_xlabel('epoch')\n",
    "    ax.set_ylabel('loss')\n",
    "    ax.legend(['train','val/test'],loc='upper right')\n",
    "    ax.grid(True)\n",
    "\n",
    "    ax = fig.add_subplot(122)\n",
    "    ax.plot(hist.epoch,hist.history['acc'],hist.history['val_acc'])\n",
    "    ax.set_ylim([0.,1.])\n",
    "    ax.set_xlabel('epoch')\n",
    "    ax.set_ylabel('accuracy')\n",
    "    ax.legend(['train','val/test'],loc='lower right')\n",
    "    ax.grid(True)"
   ]
  },
  {
   "cell_type": "code",
   "execution_count": null,
   "metadata": {},
   "outputs": [],
   "source": [
    "print(\"MLP\")\n",
    "plot_loss_acc(hist)\n",
    "print(\"ConvNet\")\n",
    "plot_loss_acc(chist)"
   ]
  },
  {
   "cell_type": "markdown",
   "metadata": {},
   "source": [
    "## "
   ]
  }
 ],
 "metadata": {
  "kernelspec": {
   "display_name": "Python [default]",
   "language": "python",
   "name": "python3"
  },
  "language_info": {
   "codemirror_mode": {
    "name": "ipython",
    "version": 3
   },
   "file_extension": ".py",
   "mimetype": "text/x-python",
   "name": "python",
   "nbconvert_exporter": "python",
   "pygments_lexer": "ipython3",
   "version": "3.6.5"
  }
 },
 "nbformat": 4,
 "nbformat_minor": 2
}
