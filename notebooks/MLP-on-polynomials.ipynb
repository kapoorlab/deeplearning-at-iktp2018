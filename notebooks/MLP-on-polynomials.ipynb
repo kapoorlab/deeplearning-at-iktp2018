{
 "cells": [
  {
   "cell_type": "markdown",
   "metadata": {},
   "source": [
    "# detecting polynomial classes from noisy data\n",
    "\n",
    "The goal of this notebook is to interpret data in an x-y plane as a greyscale image. I want to use compare traditional MLPs with CNNs to classify unseen data and also check what happens if we confront the network with an unseen category of data. We go up to polynomials of degree 5 and randomly dice they coefficients. This can produce data that is pretty diverse.\n",
    "\n",
    "## Training Data\n",
    "\n",
    "The following function uses numpy to generate the data set. We make the output ndarray's shape configurable, but will stick with a 64x64 shaped plane that spans $x=(-32,32]$ or something alike."
   ]
  },
  {
   "cell_type": "code",
   "execution_count": 2,
   "metadata": {},
   "outputs": [],
   "source": [
    "%matplotlib inline\n",
    "import numpy as np\n",
    "import matplotlib.pyplot as plt\n",
    "\n",
    "def syn_image(x, values, yrange = None, shape = (32,32), value_span = (-1,1)):\n",
    "    \n",
    "    if type(yrange) == type(None):\n",
    "        yrange = np.linspace(start=value_span[0], stop=value_span[-1],num=shape[0])\n",
    "        \n",
    "    current = np.zeros(shape)\n",
    "    for ix in range(len(x)):\n",
    "        yval = values[ix]\n",
    "        xval = x[ix]\n",
    "        if yval >= value_span[0] and yval <= value_span[-1]:\n",
    "            yidx = len(x) -1 - np.searchsorted(yrange, yval, side=\"left\")\n",
    "            current[yidx,len(x) -1 - ix] = 1\n",
    "            \n",
    "    return current\n",
    "\n",
    "def polynomials_as_images(size, max_degree, shape = (32,32), value_span = (-1,1), seed = 1, smear_sd = None):\n",
    "    \n",
    "    if seed:\n",
    "        np.random.seed(seed)\n",
    "        \n",
    "    size = int(size)\n",
    "    x = np.linspace(start=value_span[0], stop=value_span[-1],num=shape[-1])\n",
    "    y = np.linspace(start=value_span[0], stop=value_span[-1],num=shape[0])\n",
    "    \n",
    "    data   = np.zeros((size,int(shape[0]),int(shape[1])),\n",
    "                       dtype=np.uint8)\n",
    "    labels = np.random.randint(low=1,high=max_degree+1,size=size)\n",
    "    \n",
    "    for i in range(size):\n",
    "        deg = labels[i]\n",
    "        c   = np.random.random_sample(deg)\n",
    "        #print(c)\n",
    "        #print(x)\n",
    "        values   = np.polynomial.polynomial.polyval(x,c)\n",
    "        if smear_sd:\n",
    "            smear_by = np.random.normal(1.,smear_sd,size=values.size)\n",
    "            values = values*smear_by\n",
    "        current = syn_image(x,values,y,shape,value_span)\n",
    "            \n",
    "        data[i,] = current\n",
    "     \n",
    "    return data, labels"
   ]
  },
  {
   "cell_type": "code",
   "execution_count": 3,
   "metadata": {},
   "outputs": [],
   "source": [
    "train, labs = polynomials_as_images(20000,5,smear_sd=None)\n"
   ]
  },
  {
   "cell_type": "code",
   "execution_count": 15,
   "metadata": {},
   "outputs": [
    {
     "data": {
      "image/png": "[encoded data removed]",
      "text/plain": [
       "<Figure size 720x720 with 25 Axes>"
      ]
     },
     "metadata": {},
     "output_type": "display_data"
    }
   ],
   "source": [
    "#nicer plots with axis labels etc\n",
    "def plot_images(data, labels,  n_images = 25):\n",
    "    xticks = np.linspace(start=1, stop=-1,num=3)\n",
    "    yticks = np.linspace(start=1, stop=-1,num=3)\n",
    "\n",
    "    plt.figure(figsize=(10,10))\n",
    "    for i in range(n_images):\n",
    "        ax = plt.subplot(5,5,i+1)\n",
    "        #plt.xticks([])\n",
    "        #plt.yticks([])\n",
    "        plt.grid(True)\n",
    "        plt.imshow(data[i], cmap=plt.cm.binary)\n",
    "        #ax.xlabel(\"pol({0})\".format(labs[i]),color='white')\n",
    "        ax.set_title(\"pol({0})\".format(labs[i]))\n",
    "        \n",
    "        \n",
    "plot_images(train, labs)"
   ]
  },
  {
   "cell_type": "code",
   "execution_count": 16,
   "metadata": {},
   "outputs": [
    {
     "name": "stdout",
     "output_type": "stream",
     "text": [
      "_________________________________________________________________\n",
      "Layer (type)                 Output Shape              Param #   \n",
      "=================================================================\n",
      "flatten_3 (Flatten)          (None, 1024)              0         \n",
      "_________________________________________________________________\n",
      "dense_7 (Dense)              (None, 64)                65600     \n",
      "_________________________________________________________________\n",
      "dropout_8 (Dropout)          (None, 64)                0         \n",
      "_________________________________________________________________\n",
      "dense_8 (Dense)              (None, 64)                4160      \n",
      "_________________________________________________________________\n",
      "dropout_9 (Dropout)          (None, 64)                0         \n",
      "_________________________________________________________________\n",
      "dense_9 (Dense)              (None, 64)                4160      \n",
      "_________________________________________________________________\n",
      "dropout_10 (Dropout)         (None, 64)                0         \n",
      "_________________________________________________________________\n",
      "dense_10 (Dense)             (None, 6)                 390       \n",
      "=================================================================\n",
      "Total params: 74,310\n",
      "Trainable params: 74,310\n",
      "Non-trainable params: 0\n",
      "_________________________________________________________________\n"
     ]
    }
   ],
   "source": [
    "#MLP comes here with non-linearity\n",
    "from keras.utils import to_categorical\n",
    "labels = to_categorical(labs)\n",
    "\n",
    "from keras import Sequential\n",
    "from keras.layers import Dense, Dropout, Flatten\n",
    "\n",
    "model = Sequential()\n",
    "model.add(Flatten(input_shape=(32,32)))\n",
    "model.add(Dense(64, activation='relu'))#all to all relation ship in first hidden layer\n",
    "model.add(Dropout(0.4))\n",
    "model.add(Dense(64, activation='relu'))\n",
    "model.add(Dropout(0.4))\n",
    "model.add(Dense(64, activation='relu'))\n",
    "model.add(Dropout(0.4))\n",
    "model.add(Dense(6, activation='softmax'))\n",
    "\n",
    "model.summary()\n",
    "\n"
   ]
  },
  {
   "cell_type": "code",
   "execution_count": 17,
   "metadata": {},
   "outputs": [
    {
     "name": "stdout",
     "output_type": "stream",
     "text": [
      "Train on 19000 samples, validate on 1000 samples\n",
      "Epoch 1/20\n",
      "19000/19000 [==============================] - 2s 128us/step - loss: 1.2421 - acc: 0.4202 - val_loss: 0.9397 - val_acc: 0.5630\n",
      "Epoch 2/20\n",
      "19000/19000 [==============================] - 2s 115us/step - loss: 0.9360 - acc: 0.5627 - val_loss: 0.8105 - val_acc: 0.6100\n",
      "Epoch 3/20\n",
      "19000/19000 [==============================] - 2s 104us/step - loss: 0.8516 - acc: 0.6129 - val_loss: 0.7499 - val_acc: 0.6610\n",
      "Epoch 4/20\n",
      "19000/19000 [==============================] - 2s 106us/step - loss: 0.7991 - acc: 0.6466 - val_loss: 0.7185 - val_acc: 0.6820\n",
      "Epoch 5/20\n",
      "19000/19000 [==============================] - 2s 96us/step - loss: 0.7625 - acc: 0.6660 - val_loss: 0.6969 - val_acc: 0.6940\n",
      "Epoch 6/20\n",
      "19000/19000 [==============================] - 2s 97us/step - loss: 0.7287 - acc: 0.6855 - val_loss: 0.6927 - val_acc: 0.6910\n",
      "Epoch 7/20\n",
      "19000/19000 [==============================] - 2s 98us/step - loss: 0.6949 - acc: 0.6990 - val_loss: 0.6741 - val_acc: 0.7120\n",
      "Epoch 8/20\n",
      "19000/19000 [==============================] - 2s 101us/step - loss: 0.6830 - acc: 0.7129 - val_loss: 0.6609 - val_acc: 0.7130\n",
      "Epoch 9/20\n",
      "19000/19000 [==============================] - 2s 98us/step - loss: 0.6603 - acc: 0.7188 - val_loss: 0.6614 - val_acc: 0.7150\n",
      "Epoch 10/20\n",
      "19000/19000 [==============================] - 2s 98us/step - loss: 0.6499 - acc: 0.7259 - val_loss: 0.6483 - val_acc: 0.7300\n",
      "Epoch 11/20\n",
      "19000/19000 [==============================] - 2s 103us/step - loss: 0.6322 - acc: 0.7350 - val_loss: 0.6474 - val_acc: 0.7310\n",
      "Epoch 12/20\n",
      "19000/19000 [==============================] - 2s 104us/step - loss: 0.6184 - acc: 0.7401 - val_loss: 0.6362 - val_acc: 0.7300\n",
      "Epoch 13/20\n",
      "19000/19000 [==============================] - 2s 101us/step - loss: 0.6111 - acc: 0.7468 - val_loss: 0.6453 - val_acc: 0.7480\n",
      "Epoch 14/20\n",
      "19000/19000 [==============================] - 2s 102us/step - loss: 0.6027 - acc: 0.7519 - val_loss: 0.6370 - val_acc: 0.7350\n",
      "Epoch 15/20\n",
      "19000/19000 [==============================] - 2s 103us/step - loss: 0.5896 - acc: 0.7546 - val_loss: 0.6298 - val_acc: 0.7480\n",
      "Epoch 16/20\n",
      "19000/19000 [==============================] - 2s 102us/step - loss: 0.5798 - acc: 0.7626 - val_loss: 0.6339 - val_acc: 0.7450\n",
      "Epoch 17/20\n",
      "19000/19000 [==============================] - 2s 100us/step - loss: 0.5750 - acc: 0.7621 - val_loss: 0.6333 - val_acc: 0.7430\n",
      "Epoch 18/20\n",
      "19000/19000 [==============================] - 2s 104us/step - loss: 0.5646 - acc: 0.7707 - val_loss: 0.6308 - val_acc: 0.7440\n",
      "Epoch 19/20\n",
      "19000/19000 [==============================] - 2s 103us/step - loss: 0.5587 - acc: 0.7741 - val_loss: 0.6386 - val_acc: 0.7350\n",
      "Epoch 20/20\n",
      "19000/19000 [==============================] - 2s 98us/step - loss: 0.5523 - acc: 0.7749 - val_loss: 0.6241 - val_acc: 0.7470\n"
     ]
    }
   ],
   "source": [
    "model.compile(loss='categorical_crossentropy',\n",
    "              optimizer='Adam',\n",
    "              metrics=['accuracy']\n",
    "             )\n",
    "\n",
    "hist = model.fit(train, labels, epochs=20,validation_split = .05)"
   ]
  },
  {
   "cell_type": "code",
   "execution_count": 11,
   "metadata": {},
   "outputs": [
    {
     "name": "stdout",
     "output_type": "stream",
     "text": [
      "_________________________________________________________________\n",
      "Layer (type)                 Output Shape              Param #   \n",
      "=================================================================\n",
      "conv2d_1 (Conv2D)            (None, 30, 30, 32)        320       \n",
      "_________________________________________________________________\n",
      "max_pooling2d_1 (MaxPooling2 (None, 15, 15, 32)        0         \n",
      "_________________________________________________________________\n",
      "dropout_4 (Dropout)          (None, 15, 15, 32)        0         \n",
      "_________________________________________________________________\n",
      "conv2d_2 (Conv2D)            (None, 13, 13, 32)        9248      \n",
      "_________________________________________________________________\n",
      "max_pooling2d_2 (MaxPooling2 (None, 6, 6, 32)          0         \n",
      "_________________________________________________________________\n",
      "dropout_5 (Dropout)          (None, 6, 6, 32)          0         \n",
      "_________________________________________________________________\n",
      "conv2d_3 (Conv2D)            (None, 4, 4, 64)          18496     \n",
      "_________________________________________________________________\n",
      "max_pooling2d_3 (MaxPooling2 (None, 2, 2, 64)          0         \n",
      "_________________________________________________________________\n",
      "dropout_6 (Dropout)          (None, 2, 2, 64)          0         \n",
      "_________________________________________________________________\n",
      "flatten_2 (Flatten)          (None, 256)               0         \n",
      "_________________________________________________________________\n",
      "dense_5 (Dense)              (None, 128)               32896     \n",
      "_________________________________________________________________\n",
      "dropout_7 (Dropout)          (None, 128)               0         \n",
      "_________________________________________________________________\n",
      "dense_6 (Dense)              (None, 6)                 774       \n",
      "=================================================================\n",
      "Total params: 61,734\n",
      "Trainable params: 61,734\n",
      "Non-trainable params: 0\n",
      "_________________________________________________________________\n"
     ]
    }
   ],
   "source": [
    "#CNN\n",
    "from keras.layers import Conv2D, MaxPooling2D\n",
    "\n",
    "train_ = train.reshape(train.shape[0],train.shape[1],train.shape[2],1)\n",
    "\n",
    "cnn = Sequential()\n",
    "cnn.add(Conv2D(32, kernel_size=(3,3), activation='relu',input_shape=(32,32,1)))\n",
    "cnn.add(MaxPooling2D(pool_size=(2,2)))\n",
    "cnn.add(Dropout(0.2))\n",
    "cnn.add(Conv2D(32, kernel_size=(3,3), activation='relu'))\n",
    "cnn.add(MaxPooling2D(pool_size=(2,2)))\n",
    "cnn.add(Dropout(0.2))\n",
    "cnn.add(Conv2D(64, kernel_size=(3,3), activation='relu'))\n",
    "cnn.add(MaxPooling2D(pool_size=(2,2)))\n",
    "cnn.add(Dropout(0.2))\n",
    "\n",
    "cnn.add(Flatten())\n",
    "cnn.add(Dense(128, activation='relu'))\n",
    "cnn.add(Dropout(0.2))\n",
    "cnn.add(Dense(6, activation='softmax'))\n",
    "\n",
    "cnn.summary()\n",
    "\n"
   ]
  },
  {
   "cell_type": "code",
   "execution_count": 12,
   "metadata": {},
   "outputs": [
    {
     "name": "stdout",
     "output_type": "stream",
     "text": [
      "(20000, 32, 32, 1)\n",
      "Train on 19000 samples, validate on 1000 samples\n",
      "Epoch 1/20\n",
      "19000/19000 [==============================] - 22s 1ms/step - loss: 0.9636 - acc: 0.5634 - val_loss: 0.7038 - val_acc: 0.7200\n",
      "Epoch 2/20\n",
      "19000/19000 [==============================] - 23s 1ms/step - loss: 0.6979 - acc: 0.6971 - val_loss: 0.6360 - val_acc: 0.7470\n",
      "Epoch 3/20\n",
      "19000/19000 [==============================] - 23s 1ms/step - loss: 0.6408 - acc: 0.7243 - val_loss: 0.5785 - val_acc: 0.7710\n",
      "Epoch 4/20\n",
      "19000/19000 [==============================] - 20s 1ms/step - loss: 0.6043 - acc: 0.7508 - val_loss: 0.5450 - val_acc: 0.7950\n",
      "Epoch 5/20\n",
      "19000/19000 [==============================] - 23s 1ms/step - loss: 0.5739 - acc: 0.7667 - val_loss: 0.5065 - val_acc: 0.8160\n",
      "Epoch 6/20\n",
      "19000/19000 [==============================] - 21s 1ms/step - loss: 0.5555 - acc: 0.7742 - val_loss: 0.4914 - val_acc: 0.8110\n",
      "Epoch 7/20\n",
      "19000/19000 [==============================] - 24s 1ms/step - loss: 0.5396 - acc: 0.7828 - val_loss: 0.4924 - val_acc: 0.7970\n",
      "Epoch 8/20\n",
      "19000/19000 [==============================] - 21s 1ms/step - loss: 0.5287 - acc: 0.7843 - val_loss: 0.4819 - val_acc: 0.8270\n",
      "Epoch 9/20\n",
      "19000/19000 [==============================] - 21s 1ms/step - loss: 0.5205 - acc: 0.7925 - val_loss: 0.4811 - val_acc: 0.8200\n",
      "Epoch 10/20\n",
      "19000/19000 [==============================] - 21s 1ms/step - loss: 0.5090 - acc: 0.7962 - val_loss: 0.4669 - val_acc: 0.8300\n",
      "Epoch 11/20\n",
      "19000/19000 [==============================] - 21s 1ms/step - loss: 0.4985 - acc: 0.8048 - val_loss: 0.4810 - val_acc: 0.8200\n",
      "Epoch 12/20\n",
      "19000/19000 [==============================] - 21s 1ms/step - loss: 0.4989 - acc: 0.8021 - val_loss: 0.4632 - val_acc: 0.8250\n",
      "Epoch 13/20\n",
      "19000/19000 [==============================] - 26s 1ms/step - loss: 0.4884 - acc: 0.8062 - val_loss: 0.4578 - val_acc: 0.8160\n",
      "Epoch 14/20\n",
      "19000/19000 [==============================] - 23s 1ms/step - loss: 0.4892 - acc: 0.8062 - val_loss: 0.4519 - val_acc: 0.8230\n",
      "Epoch 15/20\n",
      "19000/19000 [==============================] - 23s 1ms/step - loss: 0.4782 - acc: 0.8101 - val_loss: 0.4625 - val_acc: 0.8230\n",
      "Epoch 16/20\n",
      "19000/19000 [==============================] - 23s 1ms/step - loss: 0.4769 - acc: 0.8069 - val_loss: 0.4656 - val_acc: 0.8250\n",
      "Epoch 17/20\n",
      "19000/19000 [==============================] - 22s 1ms/step - loss: 0.4723 - acc: 0.8151 - val_loss: 0.4392 - val_acc: 0.8370\n",
      "Epoch 18/20\n",
      "19000/19000 [==============================] - 23s 1ms/step - loss: 0.4658 - acc: 0.8174 - val_loss: 0.4440 - val_acc: 0.8320\n",
      "Epoch 19/20\n",
      "19000/19000 [==============================] - 23s 1ms/step - loss: 0.4637 - acc: 0.8164 - val_loss: 0.4427 - val_acc: 0.8340\n",
      "Epoch 20/20\n",
      "19000/19000 [==============================] - 24s 1ms/step - loss: 0.4614 - acc: 0.8202 - val_loss: 0.4445 - val_acc: 0.8310\n"
     ]
    }
   ],
   "source": [
    "cnn.compile(loss='categorical_crossentropy',\n",
    "              optimizer='Adam',\n",
    "              metrics=['accuracy']\n",
    "             )\n",
    "\n",
    "chist = cnn.fit(train_, labels, epochs=20,\n",
    "                  validation_split = .05)"
   ]
  },
  {
   "cell_type": "code",
   "execution_count": 13,
   "metadata": {},
   "outputs": [],
   "source": [
    "def plot_loss_acc(hist):\n",
    "    fig = plt.figure(figsize=(15,4));\n",
    "  \n",
    "    ax = fig.add_subplot(121)\n",
    "    ax.semilogy(hist.epoch,hist.history['loss'],hist.history['val_loss'])\n",
    "    ax.set_xlabel('epoch')\n",
    "    ax.set_ylabel('loss')\n",
    "    ax.legend(['train','val/test'],loc='upper right')\n",
    "    ax.grid(True)\n",
    "\n",
    "    ax = fig.add_subplot(122)\n",
    "    ax.plot(hist.epoch,hist.history['acc'],hist.history['val_acc'])\n",
    "    ax.set_ylim([0.,1.])\n",
    "    ax.set_xlabel('epoch')\n",
    "    ax.set_ylabel('accuracy')\n",
    "    ax.legend(['train','val/test'],loc='lower right')\n",
    "    ax.grid(True)"
   ]
  },
  {
   "cell_type": "code",
   "execution_count": 14,
   "metadata": {},
   "outputs": [
    {
     "name": "stdout",
     "output_type": "stream",
     "text": [
      "MLP\n"
     ]
    },
    {
     "ename": "NameError",
     "evalue": "name 'hist' is not defined",
     "output_type": "error",
     "traceback": [
      "\u001b[0;31m---------------------------------------------------------------------------\u001b[0m",
      "\u001b[0;31mNameError\u001b[0m                                 Traceback (most recent call last)",
      "\u001b[0;32m<ipython-input-14-6a49eb5e9965>\u001b[0m in \u001b[0;36m<module>\u001b[0;34m()\u001b[0m\n\u001b[1;32m      1\u001b[0m \u001b[0mprint\u001b[0m\u001b[0;34m(\u001b[0m\u001b[0;34m\"MLP\"\u001b[0m\u001b[0;34m)\u001b[0m\u001b[0;34m\u001b[0m\u001b[0m\n\u001b[0;32m----> 2\u001b[0;31m \u001b[0mplot_loss_acc\u001b[0m\u001b[0;34m(\u001b[0m\u001b[0mhist\u001b[0m\u001b[0;34m)\u001b[0m\u001b[0;34m\u001b[0m\u001b[0m\n\u001b[0m\u001b[1;32m      3\u001b[0m \u001b[0mprint\u001b[0m\u001b[0;34m(\u001b[0m\u001b[0;34m\"ConvNet\"\u001b[0m\u001b[0;34m)\u001b[0m\u001b[0;34m\u001b[0m\u001b[0m\n\u001b[1;32m      4\u001b[0m \u001b[0mplot_loss_acc\u001b[0m\u001b[0;34m(\u001b[0m\u001b[0mchist\u001b[0m\u001b[0;34m)\u001b[0m\u001b[0;34m\u001b[0m\u001b[0m\n",
      "\u001b[0;31mNameError\u001b[0m: name 'hist' is not defined"
     ]
    }
   ],
   "source": [
    "print(\"MLP\")\n",
    "plot_loss_acc(hist)\n",
    "print(\"ConvNet\")\n",
    "plot_loss_acc(chist)"
   ]
  },
  {
   "cell_type": "markdown",
   "metadata": {},
   "source": [
    "## "
   ]
  }
 ],
 "metadata": {
  "kernelspec": {
   "display_name": "Python 3",
   "language": "python",
   "name": "python3"
  },
  "language_info": {
   "codemirror_mode": {
    "name": "ipython",
    "version": 3
   },
   "file_extension": ".py",
   "mimetype": "text/x-python",
   "name": "python",
   "nbconvert_exporter": "python",
   "pygments_lexer": "ipython3",
   "version": "3.6.6"
  }
 },
 "nbformat": 4,
 "nbformat_minor": 2
}
